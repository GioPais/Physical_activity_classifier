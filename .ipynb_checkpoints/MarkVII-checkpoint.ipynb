{
 "cells": [
  {
   "cell_type": "markdown",
   "metadata": {},
   "source": [
    "# Proyecto: Clasificación de Actividades"
   ]
  },
  {
   "cell_type": "markdown",
   "metadata": {},
   "source": [
    "## Importación de DataFrame"
   ]
  },
  {
   "cell_type": "code",
   "execution_count": 1,
   "metadata": {},
   "outputs": [],
   "source": [
    "import pandas as pd\n",
    "from sklearn.model_selection import train_test_split\n",
    "import matplotlib.pyplot as plt\n",
    "import sklearn as skl\n",
    "import numpy as np\n",
    "import scipy as sci\n",
    "from scipy.stats import mode\n",
    "\n",
    "DIR='C:\\Projects\\Physical_activity_classifier/Smartphone_Dataset'\n",
    "\n",
    "def data_extractor(DIR):\n",
    "    dataset,error=[],[]\n",
    "    Activities=['bike','climbing','descending','gymbike','jumping','running','standing','treadmill','walking']\n",
    "    #print('Extrayendo datos:',end='')\n",
    "    for suj in range(1,10):#######################10\n",
    "        #print('s0{} '.format(suj),end='')\n",
    "        new_suj=[[],[],[],[],[],[],[],[],[]]\n",
    "        for act in range(0,9):###################9\n",
    "            new_act=[[],[],[],[],[]]\n",
    "            for k in range(1,6):\n",
    "                path=DIR+'/S0'+str(suj)+'/'+Activities[act]+str(k)+'.csv'\n",
    "                try:\n",
    "                    df=pd.read_csv(path,header=None)\n",
    "                    data=df.as_matrix()\n",
    "                    new_act[k-1]=data\n",
    "                except FileNotFoundError :\n",
    "                    estr=Activities[act]+str(k)\n",
    "                    error.append(estr)\n",
    "            new_suj[act]=new_act\n",
    "        dataset.append(new_suj)\n",
    "    #print('')\n",
    "    return dataset"
   ]
  },
  {
   "cell_type": "code",
   "execution_count": 2,
   "metadata": {},
   "outputs": [],
   "source": [
    "def feature_extractor(dataset,data_size,groups,overlap=0):\n",
    "    x_data,y_data,error=[],[],[]\n",
    "    #print('Calculando características ...',end=' ')\n",
    "    for suj in range(0,9):#######################10\n",
    "        #print('s0{} '.format(suj+1),end='')\n",
    "        for act in range(0,9):###################9\n",
    "            for k in range(0,5):\n",
    "                try:\n",
    "                    data=dataset[suj][act][k]\n",
    "                    #groups=len(data)//data_size\n",
    "                    new_data=[]\n",
    "                    for g in range(0,groups):\n",
    "                        if(g==0):\n",
    "                            new_data.append(data[g*data_size:(g+1)*data_size])\n",
    "                        else:\n",
    "                            new_data.append(data[g*(data_size-overlap):g*(data_size-overlap)+data_size])\n",
    "                    for g in range(0,len(new_data)):\n",
    "                        final_data=[]\n",
    "                        sensors=[[],[],[],[],[],[],[],[],[]]\n",
    "                        for i in range(0,data_size):\n",
    "                            for j in range(0,9):\n",
    "                                sensors[j].append(new_data[g][i][j])\n",
    "\n",
    "                        for j in range(0,9):\n",
    "                            final_data.append(np.mean(sensors[j]))#Mean\n",
    "                            final_data.append(np.var(sensors[j]))#Var\n",
    "                            final_data.append(np.min(sensors[j]))#Min\n",
    "                            final_data.append(np.max(sensors[j]))#Max\n",
    "                            final_data.append(np.max(sensors[j])-np.min(sensors[j]))#Range\n",
    "                            RMS=0\n",
    "                            for i in range(0,data_size):\n",
    "                                RMS+=np.sqrt((1/data_size)*sensors[j][i]*sensors[j][i])\n",
    "                            final_data.append(RMS)#RMS\n",
    "                            final_data.append(sci.stats.kurtosis(sensors[j]))#Kurtosis\n",
    "\n",
    "                        #-------------------Entropy----------------------\n",
    "                        for j in range(0,9):\n",
    "                            H=sci.stats.entropy(sensors[j])\n",
    "                            #final_data.append(H)    \n",
    "                        #-------------------EnergyExpenditure----------------------\n",
    "                        for j in range(0,3):\n",
    "                            EE=0\n",
    "                            for i in range(0,data_size):\n",
    "                                EE+=(1/data_size)*np.sqrt(sensors[0+j*3][i]*sensors[0+j*3][i]+sensors[1+j*3][i]*sensors[1+j*3][i]+sensors[2+j*3][i]*sensors[2+j*3][i])\n",
    "                            final_data.append(EE)#EE\n",
    "                            SMA=0\n",
    "                            for i in range(0,data_size):\n",
    "                                SMA+=(1/data_size)*(np.abs(sensors[0+j*3][i])+np.abs(sensors[1+j*3][i])+np.abs(sensors[2+j*3][i]))\n",
    "                            final_data.append(SMA)#SMA    \n",
    "\n",
    "                        x_data.append(final_data)\n",
    "                        y_data.append(act)\n",
    "\n",
    "                except IndexError :\n",
    "                    estr='actividad '+str(act)+','+str(k)+ 'doesn t exist'\n",
    "                    error.append(estr)\n",
    "    #print('')\n",
    "    return x_data,y_data"
   ]
  },
  {
   "cell_type": "code",
   "execution_count": 3,
   "metadata": {},
   "outputs": [
    {
     "name": "stdout",
     "output_type": "stream",
     "text": [
      "['AxMean', 'AxVar', 'AxMin', 'AxMax', 'AxRange', 'AxRMS', 'AxKurt', 'AyMean', 'AyVar', 'AyMin', 'AyMax', 'AyRange', 'AyRMS', 'AyKurt', 'AzMean', 'AzVar', 'AzMin', 'AzMax', 'AzRange', 'AzRMS', 'AzKurt', 'GxMean', 'GxVar', 'GxMin', 'GxMax', 'GxRange', 'GxRMS', 'GxKurt', 'GyMean', 'GyVar', 'GyMin', 'GyMax', 'GyRange', 'GyRMS', 'GyKurt', 'GzMean', 'GzVar', 'GzMin', 'GzMax', 'GzRange', 'GzRMS', 'GzKurt', 'MxMean', 'MxVar', 'MxMin', 'MxMax', 'MxRange', 'MxRMS', 'MxKurt', 'MyMean', 'MyVar', 'MyMin', 'MyMax', 'MyRange', 'MyRMS', 'MyKurt', 'MzMean', 'MzVar', 'MzMin', 'MzMax', 'MzRange', 'MzRMS', 'MzKurt', 'AccEE', 'AccSMA', 'GyrEE', 'GyrSMA', 'MagEE', 'MagSMA']\n",
      "Cantidad de caracteristicas: 69\n"
     ]
    }
   ],
   "source": [
    "sensor_names=['Ax','Ay','Az','Gx','Gy','Gz','Mx','My','Mz']\n",
    "sensors_names=['Acc','Gyr','Mag']\n",
    "fnames=[]\n",
    "for j in range(0,9):\n",
    "    fnames.append(sensor_names[j]+'Mean')\n",
    "    fnames.append(sensor_names[j]+'Var')\n",
    "    fnames.append(sensor_names[j]+'Min')\n",
    "    fnames.append(sensor_names[j]+'Max')\n",
    "    fnames.append(sensor_names[j]+'Range')\n",
    "    fnames.append(sensor_names[j]+'RMS')\n",
    "    fnames.append(sensor_names[j]+'Kurt')\n",
    "for j in range(0,3):\n",
    "    fnames.append(sensors_names[j]+'EE')\n",
    "    fnames.append(sensors_names[j]+'SMA')\n",
    "print(fnames)\n",
    "print('Cantidad de caracteristicas: {}'.format(len(fnames)))\n",
    "Activities=['bike','climbing','descending','gymbike','jumping','running','standing','treadmill','walking']"
   ]
  },
  {
   "cell_type": "code",
   "execution_count": 4,
   "metadata": {},
   "outputs": [],
   "source": [
    "import itertools\n",
    "def plot_confusion_matrix(cm, classes, normalize=False,\n",
    "                          title='Confusion matrix',\n",
    "                          cmap=plt.cm.Blues):\n",
    "    if normalize:\n",
    "        cm = 100 * cm / cm.sum(1)\n",
    "    plt.figure(figsize=(8,4))\n",
    "    plt.imshow(cm, interpolation='nearest', cmap=cmap)\n",
    "    plt.title(title)\n",
    "    plt.colorbar()\n",
    "    tick_marks = np.arange(len(classes))\n",
    "    plt.xticks(tick_marks, classes, rotation=45)\n",
    "    plt.yticks(tick_marks, classes)\n",
    "\n",
    "    fmt = '.0f' if normalize else 'd'\n",
    "    thresh = cm.max() / 2.\n",
    "    for i, j in itertools.product(range(cm.shape[0]), range(cm.shape[1])):\n",
    "        plt.text(j, i, format(cm[i, j], fmt),\n",
    "                 horizontalalignment=\"center\",\n",
    "                 color=\"white\" if cm[i, j] > thresh else \"black\")\n",
    "\n",
    "    plt.tight_layout()\n",
    "    plt.ylabel('True label')\n",
    "    plt.xlabel('Predicted label')"
   ]
  },
  {
   "cell_type": "code",
   "execution_count": 5,
   "metadata": {},
   "outputs": [],
   "source": [
    "from sklearn.neural_network import MLPClassifier\n",
    "from sklearn.svm import SVC,LinearSVC\n",
    "from sklearn.naive_bayes import GaussianNB\n",
    "from sklearn.metrics import confusion_matrix, accuracy_score\n",
    "import time\n",
    "def NN_train(xdata,ydata,hl_size=10,act='relu'):\n",
    "    clf = MLPClassifier(activation=act,solver='lbfgs', hidden_layer_sizes=hl_size,\n",
    "    early_stopping = True, validation_fraction = 0.25);\n",
    "    \n",
    "    xtrain,xval,ytrain,yval=train_test_split(xdata,ydata,random_state=clf.random_state,\n",
    "                                                       test_size=clf.validation_fraction)\n",
    "    clf.fit(xdata, np.ravel(ydata))\n",
    "    return [clf,xtrain,xval,ytrain,yval]\n",
    "\n",
    "def NN(x,y,hl_s,plot=True):\n",
    "    #print('-------------------------------------------------')\n",
    "    #print('Neural Network')\n",
    "    #print('-------------------------------------------------')\n",
    "    best_cm=None\n",
    "    best_acc,best_hls=0,0\n",
    "    for i in range(0,len(hl_s)):\n",
    "        clf,x_train,x_val,y_train,y_val=NN_train(x,y,hl_size=hl_s[i])\n",
    "        y_pred=clf.predict(x_val)\n",
    "        c_m=confusion_matrix(np.ravel(y_val), y_pred)\n",
    "        acc=accuracy_score(y_val, y_pred)\n",
    "        if acc>best_acc:\n",
    "            best_acc=acc\n",
    "            best_cm=c_m\n",
    "            best_hls=hl_s[i]\n",
    "    if(plot):\n",
    "        title='Matriz de Confusión Red Neuronal con '+str(best_hls)+ ' neuronas'\n",
    "        #print('Tiempo de entrenamiento: {}s'.format(dt))\n",
    "        plot_confusion_matrix(best_cm,Activities,normalize=False,title=title)\n",
    "    #print('Mejor configuración: Tamaño capa oculta {}'.format(best_hls))\n",
    "    #print('Clasificaciones exitosas: {}%'.format(best_acc*100))\n",
    "    return x_train,x_val,y_train,y_val,best_acc*100,best_hls\n",
    "\n",
    "def svm_poly(x_train,y_train,x_test,y_test,degs=[1],plot=True):\n",
    "    best_cm=None\n",
    "    best_acc,best_deg=0,0\n",
    "    for i in range(0,len(degs)):\n",
    "        clf = SVC(kernel='poly',degree=degs[i])\n",
    "        clf.fit(x_train, y_train)  \n",
    "        y_pred=clf.predict(x_test)\n",
    "        c_m=confusion_matrix(np.ravel(y_test), y_pred)\n",
    "        acc=accuracy_score(np.ravel(y_test), y_pred)\n",
    "        if acc>best_acc:\n",
    "            best_acc=acc\n",
    "            best_cm=c_m\n",
    "            best_deg=degs[i]\n",
    "    \n",
    "    #print('-------------------------------------------------')\n",
    "    #print('Support Vector Machine')\n",
    "    #print('-------------------------------------------------')\n",
    "    if (plot):\n",
    "        title='Matriz de Confusión SVM con kernel polinomial grado '+str(best_deg)\n",
    "        plot_confusion_matrix(best_cm,Activities,title=title)\n",
    "    #print('Mejor configuración: Polinomio Grado {}'.format(best_deg))\n",
    "    #print('Clasificaciones exitosas: {}%'.format(acc*100))\n",
    "    return best_acc*100,best_deg\n",
    "\n",
    "def NB(x_train,y_train,x_val,y_val,plot=True):\n",
    "    clf = GaussianNB().fit(x_train, y_train)\n",
    "    y_pred=clf.predict(x_val)\n",
    "    c_m=confusion_matrix(np.ravel(y_val), y_pred)\n",
    "    acc=accuracy_score(np.ravel(y_val), y_pred)\n",
    "    #print('-------------------------------------------------')\n",
    "    #print('Gaussian Naive Bayes')\n",
    "    #print('-------------------------------------------------')\n",
    "    if(plot):\n",
    "        title='Matriz de Confusión Clasificador Naive Bayes Gaussiano'\n",
    "        plot_confusion_matrix(c_m,Activities,title=title)\n",
    "    #print('Clasificaciones exitosas: {}%'.format(acc*100))\n",
    "    return acc*100"
   ]
  },
  {
   "cell_type": "code",
   "execution_count": 6,
   "metadata": {},
   "outputs": [],
   "source": [
    "def clf_results(x,y,hl_s,degs,it=3,plot=False):\n",
    "    NNacc,SVMacc,GNBacc,NNhls,SVMd=[],[],[],[],[]\n",
    "    #print('Iteración: ',end='')\n",
    "    for i in range(0,it):\n",
    "        #print('{} ... '.format(i+1),end='')\n",
    "        if(i>0):\n",
    "            plot=False\n",
    "        x_train,x_val,y_train,y_val,acc,hls=NN(x,y,hl_s,plot=plot)\n",
    "        NNacc.append(acc)\n",
    "        NNhls.append(hls)\n",
    "        std_scale=skl.preprocessing.StandardScaler().fit(x_train)\n",
    "        x_train_n = std_scale.transform(x_train)\n",
    "        x_val_n = std_scale.transform(x_val)\n",
    "\n",
    "        acc,d=svm_poly(x_train_n,y_train,x_val_n,y_val,degs,plot=plot)\n",
    "        SVMacc.append(acc)\n",
    "        SVMd.append(d)\n",
    "        \n",
    "        acc=NB(x_train_n,y_train,x_val_n,y_val,plot=plot)\n",
    "        GNBacc.append(acc)\n",
    "    #print('')\n",
    "    print('---------------------------------------')\n",
    "    print('Resultados')\n",
    "    print('---------------------------------------')\n",
    "    print('Precisión Red Neuronal: {}%'.format(np.mean(NNacc)))\n",
    "    print('Configuraciones: {} Neuronas'.format(NNhls))\n",
    "    print('---------------------------------------')\n",
    "    print('Precisión Support Vector Machine: {}%'.format(np.mean(SVMacc)))\n",
    "    print('Configuraciones: grado {} '.format(SVMd))\n",
    "    print('---------------------------------------')\n",
    "    print('Precisión Naive Bayes Gaussiano: {}%'.format(np.mean(GNBacc)))\n",
    "        \n",
    "    return x_train,y_train"
   ]
  },
  {
   "cell_type": "code",
   "execution_count": 7,
   "metadata": {},
   "outputs": [],
   "source": [
    "from sklearn.feature_selection import SelectKBest, mutual_info_classif\n",
    "def f_selection(k,x_train,y_train,x,fnames,plot=False):\n",
    "    sel = SelectKBest(score_func=mutual_info_classif,k=k).fit(x_train, y_train)\n",
    "    x2= sel.transform(x)\n",
    "    print('---------------------------------------------------')\n",
    "    print('feature size: {} ---> {}'.format(len(x[0]),len(x2[0])))\n",
    "    if (plot):\n",
    "        scores=sel.scores_\n",
    "        feature_s=len(x[0])\n",
    "        features=np.arange(0,feature_s,1)\n",
    "        plt.figure(figsize=(15,15))\n",
    "        plt.barh(range(feature_s),scores)\n",
    "        plt.yticks(range(feature_s),fnames)\n",
    "        plt.show()\n",
    "\n",
    "    mask=sel.get_support()\n",
    "    fnames2=get_fnames(fnames,mask)\n",
    "    print('características seleccionadas:')\n",
    "    print(fnames2)\n",
    "    return x2,fnames2\n",
    "\n",
    "def get_fnames(fnames,mask):\n",
    "    fnames2=[]\n",
    "    for i in range(0,len(fnames)):\n",
    "        if(mask[i]):\n",
    "            fnames2.append(fnames[i])\n",
    "    return fnames2"
   ]
  },
  {
   "cell_type": "markdown",
   "metadata": {},
   "source": [
    "## Extracción de datos"
   ]
  },
  {
   "cell_type": "code",
   "execution_count": 8,
   "metadata": {},
   "outputs": [
    {
     "name": "stdout",
     "output_type": "stream",
     "text": [
      "\n",
      "\n",
      "Cantidad de datos: 383 con 69 caracteristicas\n"
     ]
    }
   ],
   "source": [
    "dataset=data_extractor(DIR)\n",
    "x_data,y_data=feature_extractor(dataset,500,1)\n",
    "print('Cantidad de datos: {} con {} caracteristicas'.format(len(x_data),len(x_data[0])))\n",
    "x,x_test,y,y_test=train_test_split(x_data,y_data,test_size=0.2,shuffle=True)"
   ]
  },
  {
   "cell_type": "markdown",
   "metadata": {},
   "source": [
    "## Clasificadores"
   ]
  },
  {
   "cell_type": "code",
   "execution_count": 9,
   "metadata": {},
   "outputs": [
    {
     "name": "stdout",
     "output_type": "stream",
     "text": [
      "---------------------------------------\n",
      "Resultados\n",
      "---------------------------------------\n",
      "Precisión Red Neuronal: 99.56709956709956%\n",
      "Configuraciones: [[100, 100], 500, [100, 100]] Neuronas\n",
      "---------------------------------------\n",
      "Precisión Support Vector Machine: 89.61038961038962%\n",
      "Configuraciones: grado [1, 1, 1] \n",
      "---------------------------------------\n",
      "Precisión Naive Bayes Gaussiano: 84.4155844155844%\n"
     ]
    }
   ],
   "source": [
    "hl_s=[10,50,100,500,[10,10],[50,50],[100,100]] #hl_size_op=5000#(28+10)//2\n",
    "degs=[1,2,3]\n",
    "\n",
    "x_train,y_train=clf_results(x,y,hl_s,degs,it=3,plot=False) #RECORDAR PONER TRUEEEEEEEEEEEEEEEEEEEEEEEEEEEEEEEEEEEEEEEEEEEE"
   ]
  },
  {
   "cell_type": "markdown",
   "metadata": {},
   "source": [
    "## Selección de características"
   ]
  },
  {
   "cell_type": "code",
   "execution_count": 10,
   "metadata": {},
   "outputs": [
    {
     "name": "stdout",
     "output_type": "stream",
     "text": [
      "---------------------------------------------------\n",
      "feature size: 69 ---> 30\n"
     ]
    },
    {
     "data": {
      "image/png": "[encoded data removed]",
      "text/plain": [
       "<matplotlib.figure.Figure at 0x16b7f105a20>"
      ]
     },
     "metadata": {},
     "output_type": "display_data"
    },
    {
     "name": "stdout",
     "output_type": "stream",
     "text": [
      "características seleccionadas:\n",
      "['AxVar', 'AxMin', 'AxMax', 'AxRange', 'AxRMS', 'AyMean', 'AyVar', 'AyMin', 'AyMax', 'AyRange', 'AyRMS', 'AyKurt', 'AzVar', 'AzMin', 'AzMax', 'AzRange', 'AzRMS', 'AzKurt', 'GxMean', 'GxMin', 'GxRange', 'GxRMS', 'GyMean', 'GyVar', 'GyRange', 'GzRange', 'MxVar', 'MxRange', 'AccEE', 'AccSMA']\n"
     ]
    }
   ],
   "source": [
    "x2,fnames2=f_selection(30,x_train,y_train,x,fnames,plot=True)"
   ]
  },
  {
   "cell_type": "code",
   "execution_count": 11,
   "metadata": {},
   "outputs": [
    {
     "name": "stdout",
     "output_type": "stream",
     "text": [
      "---------------------------------------\n",
      "Resultados\n",
      "---------------------------------------\n",
      "Precisión Red Neuronal: 100.0%\n",
      "Configuraciones: [50, 50, 50] Neuronas\n",
      "---------------------------------------\n",
      "Precisión Support Vector Machine: 80.0865800865801%\n",
      "Configuraciones: grado [1, 1, 1] \n",
      "---------------------------------------\n",
      "Precisión Naive Bayes Gaussiano: 82.68398268398268%\n"
     ]
    }
   ],
   "source": [
    "x_train,y_train=clf_results(x2,y,hl_s,degs,it=3)"
   ]
  },
  {
   "cell_type": "markdown",
   "metadata": {},
   "source": [
    "## Tercera Selección de Caracteríticas"
   ]
  },
  {
   "cell_type": "code",
   "execution_count": 12,
   "metadata": {},
   "outputs": [
    {
     "name": "stdout",
     "output_type": "stream",
     "text": [
      "---------------------------------------------------\n",
      "feature size: 30 ---> 10\n",
      "características seleccionadas:\n",
      "['AxVar', 'AxMax', 'AxRange', 'AyVar', 'AyMin', 'AyMax', 'AyRange', 'AzVar', 'AzRange', 'AccEE']\n"
     ]
    }
   ],
   "source": [
    "x3,fnames3=f_selection(10,x_train,y_train,x2,fnames2)"
   ]
  },
  {
   "cell_type": "code",
   "execution_count": 13,
   "metadata": {},
   "outputs": [
    {
     "name": "stdout",
     "output_type": "stream",
     "text": [
      "---------------------------------------\n",
      "Resultados\n",
      "---------------------------------------\n",
      "Precisión Red Neuronal: 93.50649350649353%\n",
      "Configuraciones: [50, 100, 100] Neuronas\n",
      "---------------------------------------\n",
      "Precisión Support Vector Machine: 71.42857142857143%\n",
      "Configuraciones: grado [2, 1, 1] \n",
      "---------------------------------------\n",
      "Precisión Naive Bayes Gaussiano: 87.01298701298701%\n"
     ]
    }
   ],
   "source": [
    "x_train,y_train=clf_results(x3,y,hl_s,degs,it=3)"
   ]
  },
  {
   "cell_type": "markdown",
   "metadata": {},
   "source": [
    "# Extracción de Datos (tamaño 250)"
   ]
  },
  {
   "cell_type": "code",
   "execution_count": 14,
   "metadata": {},
   "outputs": [
    {
     "name": "stdout",
     "output_type": "stream",
     "text": [
      "\n",
      "Cantidad de datos: 766 con 69 caracteristicas\n"
     ]
    }
   ],
   "source": [
    "x_data,y_data=feature_extractor(dataset,250,2)\n",
    "print('Cantidad de datos: {} con {} caracteristicas'.format(len(x_data),len(x_data[0])))\n",
    "x,x_test,y,y_test=train_test_split(x_data,y_data,test_size=0.2,shuffle=True)"
   ]
  },
  {
   "cell_type": "code",
   "execution_count": 15,
   "metadata": {},
   "outputs": [
    {
     "name": "stdout",
     "output_type": "stream",
     "text": [
      "---------------------------------------\n",
      "Resultados\n",
      "---------------------------------------\n",
      "Precisión Red Neuronal: 97.60348583877995%\n",
      "Configuraciones: [[100, 100], 100, [100, 100]] Neuronas\n",
      "---------------------------------------\n",
      "Precisión Support Vector Machine: 91.72113289760348%\n",
      "Configuraciones: grado [1, 1, 1] \n",
      "---------------------------------------\n",
      "Precisión Naive Bayes Gaussiano: 91.93899782135077%\n"
     ]
    }
   ],
   "source": [
    "x_train,y_train=clf_results(x,y,hl_s,degs,it=3)"
   ]
  },
  {
   "cell_type": "code",
   "execution_count": 16,
   "metadata": {},
   "outputs": [
    {
     "name": "stdout",
     "output_type": "stream",
     "text": [
      "---------------------------------------------------\n",
      "feature size: 69 ---> 10\n",
      "características seleccionadas:\n",
      "['AxVar', 'AxMin', 'AxMax', 'AxRange', 'AyVar', 'AyMin', 'AyMax', 'AyRange', 'AzVar', 'AzRange']\n"
     ]
    }
   ],
   "source": [
    "x2,fnames2=f_selection(10,x_train,y_train,x,fnames)"
   ]
  },
  {
   "cell_type": "code",
   "execution_count": 17,
   "metadata": {},
   "outputs": [
    {
     "name": "stdout",
     "output_type": "stream",
     "text": [
      "---------------------------------------\n",
      "Resultados\n",
      "---------------------------------------\n",
      "Precisión Red Neuronal: 87.36383442265794%\n",
      "Configuraciones: [500, 100, 500] Neuronas\n",
      "---------------------------------------\n",
      "Precisión Support Vector Machine: 74.50980392156863%\n",
      "Configuraciones: grado [1, 2, 1] \n",
      "---------------------------------------\n",
      "Precisión Naive Bayes Gaussiano: 78.64923747276688%\n"
     ]
    }
   ],
   "source": [
    "x_train,y_train=clf_results(x2,y,hl_s,degs,it=3)"
   ]
  },
  {
   "cell_type": "markdown",
   "metadata": {},
   "source": [
    "# Extracción de Datos (tamaño 100)"
   ]
  },
  {
   "cell_type": "code",
   "execution_count": 18,
   "metadata": {},
   "outputs": [
    {
     "name": "stdout",
     "output_type": "stream",
     "text": [
      "\n",
      "Cantidad de datos: 1915 con 69 caracteristicas\n"
     ]
    }
   ],
   "source": [
    "x_data,y_data=feature_extractor(dataset,100,5)\n",
    "print('Cantidad de datos: {} con {} caracteristicas'.format(len(x_data),len(x_data[0])))\n",
    "x,x_test,y,y_test=train_test_split(x_data,y_data,test_size=0.2,shuffle=True)"
   ]
  },
  {
   "cell_type": "code",
   "execution_count": 19,
   "metadata": {},
   "outputs": [
    {
     "name": "stdout",
     "output_type": "stream",
     "text": [
      "---------------------------------------\n",
      "Resultados\n",
      "---------------------------------------\n",
      "Precisión Red Neuronal: 93.55961705831157%\n",
      "Configuraciones: [[50, 50], [50, 50], 100] Neuronas\n",
      "---------------------------------------\n",
      "Precisión Support Vector Machine: 94.8651000870322%\n",
      "Configuraciones: grado [2, 2, 2] \n",
      "---------------------------------------\n",
      "Precisión Naive Bayes Gaussiano: 90.60052219321149%\n"
     ]
    }
   ],
   "source": [
    "hl_s=[50,100,[50,50]]\n",
    "x_train,y_train=clf_results(x,y,hl_s,degs,it=3)"
   ]
  },
  {
   "cell_type": "code",
   "execution_count": 20,
   "metadata": {},
   "outputs": [
    {
     "name": "stdout",
     "output_type": "stream",
     "text": [
      "---------------------------------------------------\n",
      "feature size: 69 ---> 10\n",
      "características seleccionadas:\n",
      "['AxVar', 'AxMin', 'AxMax', 'AxRange', 'AyVar', 'AyMin', 'AyMax', 'AyRange', 'AzVar', 'AzRange']\n",
      "---------------------------------------\n",
      "Resultados\n",
      "---------------------------------------\n",
      "Precisión Red Neuronal: 82.5935596170583%\n",
      "Configuraciones: [50, [50, 50], 50] Neuronas\n",
      "---------------------------------------\n",
      "Precisión Support Vector Machine: 76.93646649260226%\n",
      "Configuraciones: grado [2, 1, 2] \n",
      "---------------------------------------\n",
      "Precisión Naive Bayes Gaussiano: 79.80852915578764%\n"
     ]
    }
   ],
   "source": [
    "x2,fnames2=f_selection(10,x_train,y_train,x,fnames)\n",
    "x_train,y_train=clf_results(x2,y,hl_s,degs,it=3)"
   ]
  },
  {
   "cell_type": "code",
   "execution_count": 21,
   "metadata": {},
   "outputs": [
    {
     "name": "stdout",
     "output_type": "stream",
     "text": [
      "\n",
      "Cantidad de datos: 766 con 69 caracteristicas\n"
     ]
    }
   ],
   "source": [
    "x_data,y_data=feature_extractor(dataset,300,2,overlap=100)\n",
    "print('Cantidad de datos: {} con {} caracteristicas'.format(len(x_data),len(x_data[0])))\n",
    "x,x_test,y,y_test=train_test_split(x_data,y_data,test_size=0.2,shuffle=True)"
   ]
  },
  {
   "cell_type": "code",
   "execution_count": 22,
   "metadata": {},
   "outputs": [
    {
     "name": "stdout",
     "output_type": "stream",
     "text": [
      "---------------------------------------\n",
      "Resultados\n",
      "---------------------------------------\n",
      "Precisión Red Neuronal: 96.73202614379086%\n",
      "Configuraciones: [50, 100, [50, 50]] Neuronas\n",
      "---------------------------------------\n",
      "Precisión Support Vector Machine: 92.15686274509805%\n",
      "Configuraciones: grado [2, 2, 1] \n",
      "---------------------------------------\n",
      "Precisión Naive Bayes Gaussiano: 90.19607843137256%\n",
      "---------------------------------------------------\n",
      "feature size: 69 ---> 10\n",
      "características seleccionadas:\n",
      "['AxVar', 'AxMax', 'AxRange', 'AyVar', 'AyMin', 'AyMax', 'AyRange', 'AzVar', 'AzMin', 'AzRange']\n",
      "---------------------------------------\n",
      "Resultados\n",
      "---------------------------------------\n",
      "Precisión Red Neuronal: 87.36383442265794%\n",
      "Configuraciones: [50, 50, 100] Neuronas\n",
      "---------------------------------------\n",
      "Precisión Support Vector Machine: 75.38126361655775%\n",
      "Configuraciones: grado [1, 1, 1] \n",
      "---------------------------------------\n",
      "Precisión Naive Bayes Gaussiano: 79.73856209150328%\n"
     ]
    }
   ],
   "source": [
    "x_train,y_train=clf_results(x,y,hl_s,degs,it=3)\n",
    "x2,fnames2=f_selection(10,x_train,y_train,x,fnames)\n",
    "x_train,y_train=clf_results(x2,y,hl_s,degs,it=3)"
   ]
  },
  {
   "cell_type": "code",
   "execution_count": 23,
   "metadata": {},
   "outputs": [
    {
     "name": "stdout",
     "output_type": "stream",
     "text": [
      "\n",
      "Cantidad de datos: 1532 con 69 caracteristicas\n"
     ]
    }
   ],
   "source": [
    "x_data,y_data=feature_extractor(dataset,200,4,overlap=100)\n",
    "print('Cantidad de datos: {} con {} caracteristicas'.format(len(x_data),len(x_data[0]))) #1532\n",
    "x,x_test,y,y_test=train_test_split(x_data,y_data,test_size=0.2,shuffle=True)"
   ]
  },
  {
   "cell_type": "code",
   "execution_count": 24,
   "metadata": {},
   "outputs": [
    {
     "name": "stdout",
     "output_type": "stream",
     "text": [
      "---------------------------------------\n",
      "Resultados\n",
      "---------------------------------------\n",
      "Precisión Red Neuronal: 93.15960912052117%\n",
      "Configuraciones: [[50, 50], [50, 50], 100] Neuronas\n",
      "---------------------------------------\n",
      "Precisión Support Vector Machine: 96.74267100977198%\n",
      "Configuraciones: grado [2, 2, 2] \n",
      "---------------------------------------\n",
      "Precisión Naive Bayes Gaussiano: 93.59391965255156%\n",
      "---------------------------------------------------\n",
      "feature size: 69 ---> 10\n",
      "características seleccionadas:\n",
      "['AxVar', 'AxMax', 'AxRange', 'AyVar', 'AyMin', 'AyMax', 'AyRange', 'AzVar', 'AzMax', 'AzRange']\n",
      "---------------------------------------\n",
      "Resultados\n",
      "---------------------------------------\n",
      "Precisión Red Neuronal: 86.64495114006515%\n",
      "Configuraciones: [100, 100, 100] Neuronas\n",
      "---------------------------------------\n",
      "Precisión Support Vector Machine: 75.4614549402823%\n",
      "Configuraciones: grado [2, 1, 1] \n",
      "---------------------------------------\n",
      "Precisión Naive Bayes Gaussiano: 79.15309446254072%\n"
     ]
    }
   ],
   "source": [
    "x_train,y_train=clf_results(x,y,hl_s,degs,it=3)\n",
    "x2,fnames2=f_selection(10,x_train,y_train,x,fnames)\n",
    "x_train,y_train=clf_results(x2,y,hl_s,degs,it=3)"
   ]
  }
 ],
 "metadata": {
  "kernelspec": {
   "display_name": "Python 3",
   "language": "python",
   "name": "python3"
  },
  "language_info": {
   "codemirror_mode": {
    "name": "ipython",
    "version": 3
   },
   "file_extension": ".py",
   "mimetype": "text/x-python",
   "name": "python",
   "nbconvert_exporter": "python",
   "pygments_lexer": "ipython3",
   "version": "3.6.4"
  }
 },
 "nbformat": 4,
 "nbformat_minor": 2
}
