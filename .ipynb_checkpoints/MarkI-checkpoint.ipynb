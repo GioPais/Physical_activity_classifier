{
 "cells": [
  {
   "cell_type": "markdown",
   "metadata": {},
   "source": [
    "# Tarea 3: Redes Neuronales Artificiales"
   ]
  },
  {
   "cell_type": "markdown",
   "metadata": {},
   "source": [
    "## Importación de DataFrame"
   ]
  },
  {
   "cell_type": "code",
   "execution_count": null,
   "metadata": {},
   "outputs": [],
   "source": [
    "import pandas as pd\n",
    "from sklearn.model_selection import train_test_split\n",
    "import matplotlib.pyplot as plt\n",
    "import numpy as np\n",
    "\n",
    "DIR='C:\\Projects\\Physical_activity_classifier/Smartphone_Dataset'\n",
    "data= pd.read_csv(DIR+'/S01/bike1.csv',header=None)\n",
    "#print(data)\n",
    "\n",
    "Sujetos=[]\n",
    "for i in range(1,10):\n",
    "    Sujeto=[]\n",
    "    for j in range(0,8):\n",
    "        Activity=[]\n",
    "        Activities=['bike','climbing','descending','gymbike','jumping','running','standing','treadmill','walking']\n",
    "        for k in range(1,5):\n",
    "            path=DIR+'/S0'+str(i)+'/'+Activities[j]+str(k)+'.csv'\n",
    "            try:\n",
    "                Activity.append(pd.read_csv(path,header=None))\n",
    "            except FileNotFoundError :\n",
    "                print(path+' path doesn t exist')\n",
    "        Sujeto.append(Activity)\n",
    "    Sujetos.append(Sujeto)\n",
    "print(len(Sujetos))"
   ]
  },
  {
   "cell_type": "code",
   "execution_count": 2,
   "metadata": {},
   "outputs": [
    {
     "name": "stdout",
     "output_type": "stream",
     "text": [
      "C:/Users/Giopa/OneDrive/Documents/Jupyter/Inteligencia/Proyecto/Smartphone_Dataset/S02/gymbike1.csv path doesn t exist\n",
      "C:/Users/Giopa/OneDrive/Documents/Jupyter/Inteligencia/Proyecto/Smartphone_Dataset/S02/gymbike2.csv path doesn t exist\n",
      "C:/Users/Giopa/OneDrive/Documents/Jupyter/Inteligencia/Proyecto/Smartphone_Dataset/S02/gymbike3.csv path doesn t exist\n",
      "C:/Users/Giopa/OneDrive/Documents/Jupyter/Inteligencia/Proyecto/Smartphone_Dataset/S02/gymbike4.csv path doesn t exist\n",
      "C:/Users/Giopa/OneDrive/Documents/Jupyter/Inteligencia/Proyecto/Smartphone_Dataset/S03/treadmill3.csv path doesn t exist\n",
      "C:/Users/Giopa/OneDrive/Documents/Jupyter/Inteligencia/Proyecto/Smartphone_Dataset/S04/bike1.csv path doesn t exist\n",
      "C:/Users/Giopa/OneDrive/Documents/Jupyter/Inteligencia/Proyecto/Smartphone_Dataset/S04/bike2.csv path doesn t exist\n",
      "C:/Users/Giopa/OneDrive/Documents/Jupyter/Inteligencia/Proyecto/Smartphone_Dataset/S04/bike3.csv path doesn t exist\n",
      "C:/Users/Giopa/OneDrive/Documents/Jupyter/Inteligencia/Proyecto/Smartphone_Dataset/S04/bike4.csv path doesn t exist\n",
      "C:/Users/Giopa/OneDrive/Documents/Jupyter/Inteligencia/Proyecto/Smartphone_Dataset/S06/bike1.csv path doesn t exist\n",
      "C:/Users/Giopa/OneDrive/Documents/Jupyter/Inteligencia/Proyecto/Smartphone_Dataset/S06/bike2.csv path doesn t exist\n",
      "C:/Users/Giopa/OneDrive/Documents/Jupyter/Inteligencia/Proyecto/Smartphone_Dataset/S06/bike3.csv path doesn t exist\n",
      "C:/Users/Giopa/OneDrive/Documents/Jupyter/Inteligencia/Proyecto/Smartphone_Dataset/S06/bike4.csv path doesn t exist\n",
      "C:/Users/Giopa/OneDrive/Documents/Jupyter/Inteligencia/Proyecto/Smartphone_Dataset/S07/bike1.csv path doesn t exist\n",
      "C:/Users/Giopa/OneDrive/Documents/Jupyter/Inteligencia/Proyecto/Smartphone_Dataset/S07/bike2.csv path doesn t exist\n",
      "C:/Users/Giopa/OneDrive/Documents/Jupyter/Inteligencia/Proyecto/Smartphone_Dataset/S07/bike3.csv path doesn t exist\n",
      "C:/Users/Giopa/OneDrive/Documents/Jupyter/Inteligencia/Proyecto/Smartphone_Dataset/S07/bike4.csv path doesn t exist\n",
      "Cantidad de actividades: 9\n",
      "Datos por actividad: [24,36,36,32,36,36,36,35,36]\n"
     ]
    }
   ],
   "source": [
    "import pandas as pd\n",
    "from sklearn.model_selection import train_test_split\n",
    "import matplotlib.pyplot as plt\n",
    "import numpy as np\n",
    "\n",
    "DIR='C:/Users/Giopa/OneDrive/Documents/Jupyter/Inteligencia/Proyecto/Smartphone_Dataset'\n",
    "data= pd.read_csv(DIR+'/S01/bike1.csv',header=None)\n",
    "#print(data)\n",
    "\n",
    "Activity=[[],[],[],[],[],[],[],[],[]]\n",
    "for i in range(1,10):\n",
    "    for j in range(0,9):\n",
    "        Activities=['bike','climbing','descending','gymbike','jumping','running','standing','treadmill','walking']\n",
    "        for k in range(1,5):\n",
    "            path=DIR+'/S0'+str(i)+'/'+Activities[j]+str(k)+'.csv'\n",
    "            try:\n",
    "                Activity[j].append(pd.read_csv(path,header=None))\n",
    "            except FileNotFoundError :\n",
    "                print(path+' path doesn t exist')\n",
    "        \n",
    "    \n",
    "print('Cantidad de actividades: {}'.format(len(Activity)))\n",
    "print('Datos por actividad: [{},{},{},{},{},{},{},{},{}]'.format(len(Activity[0]),len(Activity[1]),len(Activity[2]),len(Activity[3]),len(Activity[4]),len(Activity[5]),len(Activity[6]),len(Activity[7]),len(Activity[8])))\n"
   ]
  },
  {
   "cell_type": "code",
   "execution_count": 3,
   "metadata": {},
   "outputs": [
    {
     "name": "stdout",
     "output_type": "stream",
     "text": [
      "Datos por sujeto: 500\n",
      "Cantidad de actividades: 9\n",
      "Datos por actividad: [12000,18000,18000,16000,18000,18000,18000,17500,18000]\n"
     ]
    }
   ],
   "source": [
    "print('Datos por sujeto: {}'.format(len(Activity[0][0])))\n",
    "#print('Datos por sujeto: {}'.format(len(Activity[4][3])))\n",
    "#print('Datos por sujeto: {}'.format(len(Activity[6][2])))\n",
    "\n",
    "act_df=[]\n",
    "for i in range(0,9):\n",
    "    act_df.append(pd.concat(Activity[i], ignore_index=True))\n",
    "    \n",
    "print('Cantidad de actividades: {}'.format(len(act_df)))\n",
    "print('Datos por actividad: [{},{},{},{},{},{},{},{},{}]'.format(len(act_df[0]),len(act_df[1]),len(act_df[2]),len(act_df[3]),len(act_df[4]),len(act_df[5]),len(act_df[6]),len(act_df[7]),len(act_df[8])))\n",
    "#print('Features: {}'.format(act_df[0][0]))\n",
    "#print(type(act_df[0]))"
   ]
  },
  {
   "cell_type": "code",
   "execution_count": null,
   "metadata": {},
   "outputs": [],
   "source": [
    "act_train=[[],[],[],[],[],[],[],[],[]]\n",
    "act_val=[[],[],[],[],[],[],[],[],[]]\n",
    "act_test=[[],[],[],[],[],[],[],[],[]]\n",
    "for i in range(0,9):\n",
    "    df_size=len(act_df[i])\n",
    "    #print((df_size*60)//100)\n",
    "    D=act_df[i].as_matrix()\n",
    "    act_train[i]=D[0:(df_size*60)//100]\n",
    "    aux=D[(df_size*60)//100:df_size]\n",
    "    aux_size=len(aux)\n",
    "    act_val[i]=aux[0:(aux_size*50)//100]\n",
    "    act_test[i]=aux[(aux_size*50)//100:aux_size]\n",
    "\n",
    "print('Entrenamiento: [{},{},{},{},{},{},{},{},{}]'.format(len(act_train[0]),len(act_train[1]),len(act_train[2]),len(act_train[3]),len(act_train[4]),len(act_train[5]),len(act_train[6]),len(act_train[7]),len(act_train[8])))\n",
    "print('Validacion: [{},{},{},{},{},{},{},{},{}]'.format(len(act_val[0]),len(act_val[1]),len(act_val[2]),len(act_val[3]),len(act_val[4]),len(act_val[5]),len(act_val[6]),len(act_val[7]),len(act_val[8])))\n",
    "print('Prueba: [{},{},{},{},{},{},{},{},{}]'.format(len(act_test[0]),len(act_test[1]),len(act_test[2]),len(act_test[3]),len(act_test[4]),len(act_test[5]),len(act_test[6]),len(act_test[7]),len(act_test[8])))\n",
    "\n"
   ]
  },
  {
   "cell_type": "code",
   "execution_count": null,
   "metadata": {},
   "outputs": [],
   "source": [
    "l=100\n",
    "p=True\n",
    "p2=True\n",
    "x_train=[[],[],[],[],[],[],[],[],[]]\n",
    "for i in range(0,9):\n",
    "    n_step=len(act_train[i])//l\n",
    "    for j in range(0,n_step):\n",
    "        data=act_train[i][j*l:(j+1)*l]\n",
    "        #print(len(data))\n",
    "        xi=[]\n",
    "        ############################mean################################\n",
    "        mean=[0,0,0,0,0,0,0,0,0]\n",
    "        for k in range(0,l):\n",
    "            for c in range(0,9):\n",
    "                mean[c]+=(data[k][c])/100\n",
    "        if p:\n",
    "            print(mean)\n",
    "            p=False\n",
    "        x_train[i].append(mean)\n",
    "        #############################var################################\n",
    "        var=[0,0,0,0,0,0,0,0,0]\n",
    "        for k in range(0,l):\n",
    "            for c in range(0,9):\n",
    "                var[c]+=(data[k][c]-mean[c])*(data[k][c]-mean[c])/100\n",
    "        if p2:\n",
    "            print(var)\n",
    "            p2=False\n",
    "        x_train[i].append(var)\n",
    "        ################################################################\n",
    "    #print(x_train[i])\n",
    "    \n",
    "print('Entrenamiento: [{},{},{},{},{},{},{},{},{}]'.format(len(x_train[0]),len(x_train[1]),len(x_train[2]),len(x_train[3]),len(x_train[4]),len(x_train[5]),len(x_train[6]),len(x_train[7]),len(x_train[8])))\n"
   ]
  },
  {
   "cell_type": "code",
   "execution_count": null,
   "metadata": {},
   "outputs": [],
   "source": [
    "l=100\n",
    "p=True\n",
    "p2=True\n",
    "x_train=[[],[],[],[],[],[],[],[],[]]\n",
    "for i in range(0,1): #Activities\n",
    "    n_step=len(act_train[i])//l\n",
    "    print('numero de sub datos: {}'.format(n_step))\n",
    "    for j in range(0,n_step): #sub_data\n",
    "        data=act_train[i][j*l:(j+1)*l]\n",
    "        #print(len(data))\n",
    "        xi=[[],[],[],[],[],[],[],[],[]]\n",
    "        \n",
    "        for k in range(0,l):\n",
    "            for sensor in range(0,9):\n",
    "                xi[sensor].append(data[k][sensor])\n",
    "            \n",
    "        print('sensor: [{},{},{},{},{},{},{},{},{}]'.format(len(xi[0]),len(xi[1]),len(xi[2]),len(xi[3]),len(xi[4]),len(xi[5]),len(xi[6]),len(xi[7]),len(xi[8])))\n",
    "        \n",
    "        ############################mean################################\n",
    "        #mean=[0,0,0,0,0,0,0,0,0]\n",
    "        for k in range(0,l):\n",
    "            for sensor in range(0,9):\n",
    "                mean=np.mean(xi[sensor])\n",
    "                xtrain[i].appe\n",
    "        if p:\n",
    "            print(mean)\n",
    "            p=False\n",
    "        x_train[i].append(mean)\n",
    "        #############################var################################\n",
    "        \n",
    "        ################################################################\n",
    "    #print(x_train[i])\n",
    "    \n",
    "print('Entrenamiento: [{},{},{},{},{},{},{},{},{}]'.format(len(x_train[0]),len(x_train[1]),len(x_train[2]),len(x_train[3]),len(x_train[4]),len(x_train[5]),len(x_train[6]),len(x_train[7]),len(x_train[8])))\n"
   ]
  }
 ],
 "metadata": {
  "kernelspec": {
   "display_name": "Python 3",
   "language": "python",
   "name": "python3"
  },
  "language_info": {
   "codemirror_mode": {
    "name": "ipython",
    "version": 3
   },
   "file_extension": ".py",
   "mimetype": "text/x-python",
   "name": "python",
   "nbconvert_exporter": "python",
   "pygments_lexer": "ipython3",
   "version": "3.6.4"
  }
 },
 "nbformat": 4,
 "nbformat_minor": 2
}
